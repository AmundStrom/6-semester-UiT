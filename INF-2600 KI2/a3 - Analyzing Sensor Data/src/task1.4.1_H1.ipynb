{
 "cells": [
  {
   "cell_type": "markdown",
   "metadata": {},
   "source": [
    "# Task 1.4.1\n",
    "\n",
    "Create a Bayesian Network on the same data with two different hierarchies.\n",
    "\n",
    "# Hierarchy 1:"
   ]
  },
  {
   "cell_type": "code",
   "execution_count": 9,
   "metadata": {},
   "outputs": [],
   "source": [
    "# Including the necessary libraries\n",
    "import numpy as np\n",
    "import pandas as pd\n",
    "import seaborn as sns\n",
    "import matplotlib.pyplot as plt\n",
    "\n",
    "from pgmpy.models import BayesianNetwork\n",
    "from pgmpy.factors.discrete import TabularCPD"
   ]
  },
  {
   "cell_type": "code",
   "execution_count": 10,
   "metadata": {},
   "outputs": [
    {
     "data": {
      "text/html": [
       "<div>\n",
       "<style scoped>\n",
       "    .dataframe tbody tr th:only-of-type {\n",
       "        vertical-align: middle;\n",
       "    }\n",
       "\n",
       "    .dataframe tbody tr th {\n",
       "        vertical-align: top;\n",
       "    }\n",
       "\n",
       "    .dataframe thead th {\n",
       "        text-align: right;\n",
       "    }\n",
       "</style>\n",
       "<table border=\"1\" class=\"dataframe\">\n",
       "  <thead>\n",
       "    <tr style=\"text-align: right;\">\n",
       "      <th></th>\n",
       "      <th>date</th>\n",
       "      <th>precipitation</th>\n",
       "      <th>temp_max</th>\n",
       "      <th>temp_min</th>\n",
       "      <th>wind</th>\n",
       "      <th>weather</th>\n",
       "    </tr>\n",
       "  </thead>\n",
       "  <tbody>\n",
       "    <tr>\n",
       "      <th>0</th>\n",
       "      <td>2012-01-01</td>\n",
       "      <td>0.0</td>\n",
       "      <td>12.8</td>\n",
       "      <td>5.0</td>\n",
       "      <td>4.7</td>\n",
       "      <td>drizzle</td>\n",
       "    </tr>\n",
       "    <tr>\n",
       "      <th>1</th>\n",
       "      <td>2012-01-02</td>\n",
       "      <td>10.9</td>\n",
       "      <td>10.6</td>\n",
       "      <td>2.8</td>\n",
       "      <td>4.5</td>\n",
       "      <td>rain</td>\n",
       "    </tr>\n",
       "    <tr>\n",
       "      <th>2</th>\n",
       "      <td>2012-01-03</td>\n",
       "      <td>0.8</td>\n",
       "      <td>11.7</td>\n",
       "      <td>7.2</td>\n",
       "      <td>2.3</td>\n",
       "      <td>rain</td>\n",
       "    </tr>\n",
       "    <tr>\n",
       "      <th>3</th>\n",
       "      <td>2012-01-04</td>\n",
       "      <td>20.3</td>\n",
       "      <td>12.2</td>\n",
       "      <td>5.6</td>\n",
       "      <td>4.7</td>\n",
       "      <td>rain</td>\n",
       "    </tr>\n",
       "    <tr>\n",
       "      <th>4</th>\n",
       "      <td>2012-01-05</td>\n",
       "      <td>1.3</td>\n",
       "      <td>8.9</td>\n",
       "      <td>2.8</td>\n",
       "      <td>6.1</td>\n",
       "      <td>rain</td>\n",
       "    </tr>\n",
       "  </tbody>\n",
       "</table>\n",
       "</div>"
      ],
      "text/plain": [
       "         date  precipitation  temp_max  temp_min  wind  weather\n",
       "0  2012-01-01            0.0      12.8       5.0   4.7  drizzle\n",
       "1  2012-01-02           10.9      10.6       2.8   4.5     rain\n",
       "2  2012-01-03            0.8      11.7       7.2   2.3     rain\n",
       "3  2012-01-04           20.3      12.2       5.6   4.7     rain\n",
       "4  2012-01-05            1.3       8.9       2.8   6.1     rain"
      ]
     },
     "execution_count": 10,
     "metadata": {},
     "output_type": "execute_result"
    }
   ],
   "source": [
    "# Import data, make a copy of the original\n",
    "\n",
    "df0 = pd.read_csv('seattle-weather.csv')\n",
    "dfc1 = df0.copy()\n",
    "dfc1.head()"
   ]
  },
  {
   "cell_type": "code",
   "execution_count": 11,
   "metadata": {},
   "outputs": [
    {
     "data": {
      "text/plain": [
       "date             False\n",
       "precipitation    False\n",
       "temp_max         False\n",
       "temp_min         False\n",
       "wind             False\n",
       "weather          False\n",
       "dtype: bool"
      ]
     },
     "execution_count": 11,
     "metadata": {},
     "output_type": "execute_result"
    }
   ],
   "source": [
    "# Create new df with variables we want to work with:\n",
    "new_cols = ['date', 'precipitation', 'temp_max', 'temp_min', 'wind', 'weather']\n",
    "\n",
    "df = df0[new_cols]\n",
    "\n",
    "df[df.isnull().any(axis=1)] # any missing data in columns\n",
    "df.isnull().any()"
   ]
  },
  {
   "cell_type": "code",
   "execution_count": 12,
   "metadata": {},
   "outputs": [
    {
     "data": {
      "text/html": [
       "<div>\n",
       "<style scoped>\n",
       "    .dataframe tbody tr th:only-of-type {\n",
       "        vertical-align: middle;\n",
       "    }\n",
       "\n",
       "    .dataframe tbody tr th {\n",
       "        vertical-align: top;\n",
       "    }\n",
       "\n",
       "    .dataframe thead th {\n",
       "        text-align: right;\n",
       "    }\n",
       "</style>\n",
       "<table border=\"1\" class=\"dataframe\">\n",
       "  <thead>\n",
       "    <tr style=\"text-align: right;\">\n",
       "      <th></th>\n",
       "      <th>date</th>\n",
       "      <th>precipitation</th>\n",
       "      <th>temp_max</th>\n",
       "      <th>temp_min</th>\n",
       "      <th>wind</th>\n",
       "      <th>weather</th>\n",
       "    </tr>\n",
       "  </thead>\n",
       "  <tbody>\n",
       "    <tr>\n",
       "      <th>0</th>\n",
       "      <td>2012-01-01</td>\n",
       "      <td>moderate</td>\n",
       "      <td>moderate</td>\n",
       "      <td>moderate</td>\n",
       "      <td>high</td>\n",
       "      <td>drizzle</td>\n",
       "    </tr>\n",
       "    <tr>\n",
       "      <th>1</th>\n",
       "      <td>2012-01-02</td>\n",
       "      <td>high</td>\n",
       "      <td>moderate</td>\n",
       "      <td>low</td>\n",
       "      <td>moderate</td>\n",
       "      <td>rain</td>\n",
       "    </tr>\n",
       "    <tr>\n",
       "      <th>2</th>\n",
       "      <td>2012-01-03</td>\n",
       "      <td>moderate</td>\n",
       "      <td>moderate</td>\n",
       "      <td>moderate</td>\n",
       "      <td>moderate</td>\n",
       "      <td>rain</td>\n",
       "    </tr>\n",
       "    <tr>\n",
       "      <th>3</th>\n",
       "      <td>2012-01-04</td>\n",
       "      <td>high</td>\n",
       "      <td>moderate</td>\n",
       "      <td>moderate</td>\n",
       "      <td>high</td>\n",
       "      <td>rain</td>\n",
       "    </tr>\n",
       "    <tr>\n",
       "      <th>4</th>\n",
       "      <td>2012-01-05</td>\n",
       "      <td>moderate</td>\n",
       "      <td>low</td>\n",
       "      <td>low</td>\n",
       "      <td>high</td>\n",
       "      <td>rain</td>\n",
       "    </tr>\n",
       "  </tbody>\n",
       "</table>\n",
       "</div>"
      ],
      "text/plain": [
       "         date precipitation  temp_max  temp_min      wind  weather\n",
       "0  2012-01-01      moderate  moderate  moderate      high  drizzle\n",
       "1  2012-01-02          high  moderate       low  moderate     rain\n",
       "2  2012-01-03      moderate  moderate  moderate  moderate     rain\n",
       "3  2012-01-04          high  moderate  moderate      high     rain\n",
       "4  2012-01-05      moderate       low       low      high     rain"
      ]
     },
     "execution_count": 12,
     "metadata": {},
     "output_type": "execute_result"
    }
   ],
   "source": [
    "num_stdv = 1\n",
    "\n",
    "# Define the labels dictionary\n",
    "labels = {\n",
    "    'precipitation': ['low', 'moderate', 'high'],\n",
    "    'temp_max': ['low', 'moderate', 'high'],\n",
    "    'temp_min': ['low', 'moderate', 'high'],\n",
    "    'wind': ['low', 'moderate', 'high']\n",
    "}\n",
    "\n",
    "# Create bounds for continuous labels\n",
    "for col in df.columns:\n",
    "    if col in labels:\n",
    "        col_mean = df[col].mean()\n",
    "        col_stvd = df[col].std()\n",
    "        lower = col_mean - col_stvd * num_stdv\n",
    "        upper = col_mean + col_stvd * num_stdv\n",
    "        bins = [-float('inf'), lower, upper, float('inf')]\n",
    "        df[col] = pd.cut(df[col], bins=bins, labels=labels[col])\n",
    "\n",
    "\n",
    "df.head()"
   ]
  },
  {
   "cell_type": "code",
   "execution_count": 13,
   "metadata": {},
   "outputs": [],
   "source": [
    "# Define the hierarchy\n",
    "weather_model_h1 = BayesianNetwork([\n",
    "       ('weather', 'precipitation'), ('weather', 'wind'),\n",
    "       ('precipitation', 'temp_max'), ('precipitation', 'temp_min'),\n",
    "       ('wind', 'temp_min'), ('wind', 'temp_max')\n",
    "])\n",
    "\n",
    "# And, the states for each variables\n",
    "precipitation_states = ['low', 'mid', 'high']\n",
    "temp_max_states = ['low', 'mid', 'high']\n",
    "temp_min_states = ['low', 'mid', 'high']\n",
    "wind_states = ['low', 'mid', 'high']\n",
    "weather_states = ['drizzle', 'rain', 'sun', 'snow', 'fog']"
   ]
  },
  {
   "cell_type": "code",
   "execution_count": 14,
   "metadata": {},
   "outputs": [
    {
     "name": "stderr",
     "output_type": "stream",
     "text": [
      "C:\\Users\\Admin\\AppData\\Local\\Temp\\ipykernel_18472\\2374711262.py:21: FutureWarning: The default of observed=False is deprecated and will be changed to True in a future version of pandas. Pass observed=False to retain current behavior or observed=True to adopt the future default and silence this warning.\n",
      "  value_given_key = df.groupby(list(key))[value[i]].value_counts(normalize=True).sort_index()\n",
      "C:\\Users\\Admin\\AppData\\Local\\Temp\\ipykernel_18472\\2374711262.py:21: FutureWarning: The default of observed=False is deprecated and will be changed to True in a future version of pandas. Pass observed=False to retain current behavior or observed=True to adopt the future default and silence this warning.\n",
      "  value_given_key = df.groupby(list(key))[value[i]].value_counts(normalize=True).sort_index()\n"
     ]
    }
   ],
   "source": [
    "# Calculate Probabilities\n",
    "\n",
    "# Weather does not have any parents so all we need are the marginal probabilities of observing each weather type\n",
    "weather_marginal = (df['weather'].value_counts()/len(df['weather'])).round(3)\n",
    "weather_marginal = np.array([[value] for value in weather_marginal])\n",
    "\n",
    "\n",
    "# Joint Propabilities\n",
    "# Create dict where key=parent, value=child\n",
    "var_dict = {\n",
    "           ('weather',): ['precipitation', 'wind'],\n",
    "           ('precipitation', 'wind'): ['temp_max'],\n",
    "           ('wind', 'precipitation'): ['temp_min'],\n",
    "           }\n",
    "\n",
    "# Create conditional distributions and store results in a list\n",
    "cpd_lst = []\n",
    "for key, value in var_dict.items():\n",
    "   length = len(value)\n",
    "   for i in range(length):\n",
    "       value_given_key = df.groupby(list(key))[value[i]].value_counts(normalize=True).sort_index()\n",
    "       cpd = value_given_key.unstack(fill_value=0).to_numpy().T\n",
    "       cpd_lst.append(cpd)\n",
    "\n",
    "\n",
    "# Note that we get 3 Nan values in the above conditional distributions. This is because one of the type of precipitation (low) did not contain any relation with temp_max.\n",
    "# Therefore, normalization, does not produce the intended result.\n",
    "# To mitigate this, we replace Nan with the equal probability within the three values, i.e., 0.33\n",
    "for cpd in cpd_lst:\n",
    "    for i in range(len(cpd[0])):\n",
    "        col = cpd[:,i]\n",
    "        if np.array_equal(col, np.array([0., 0., 0.])):\n",
    "            cpd[:,i] = .33\n",
    "\n",
    "# print(cpd_lst)"
   ]
  },
  {
   "cell_type": "code",
   "execution_count": 15,
   "metadata": {},
   "outputs": [],
   "source": [
    "# Creating tabular conditional probability distribution\n",
    "weather_cpd = TabularCPD(variable='weather', variable_card=5, values=weather_marginal, state_names={'weather': weather_states})\n",
    "\n",
    "precipitation_cpd = TabularCPD(variable='precipitation', variable_card=3, evidence=['weather'], evidence_card=[5],\n",
    "                              values=cpd_lst[0], state_names={'precipitation': precipitation_states, 'weather': weather_states})\n",
    "\n",
    "wind_cpd = TabularCPD(variable='wind', variable_card=3, evidence=['weather'], evidence_card=[5],\n",
    "                              values=cpd_lst[1], state_names={'wind': wind_states, 'weather': weather_states})\n",
    "\n",
    "temp_max_cpd = TabularCPD(variable='temp_max', variable_card=3, evidence=['precipitation', 'wind'], evidence_card=[3, 3],\n",
    "                              values=cpd_lst[2], state_names={'temp_max': temp_max_states, 'precipitation': precipitation_states, 'wind': wind_states})\n",
    "\n",
    "temp_min_cpd = TabularCPD(variable='temp_min', variable_card=3, evidence=['wind', 'precipitation'], evidence_card=[3, 3],\n",
    "                              values=cpd_lst[3], state_names={'temp_min': temp_min_states, 'wind': wind_states, 'precipitation': precipitation_states})"
   ]
  },
  {
   "cell_type": "code",
   "execution_count": 16,
   "metadata": {},
   "outputs": [
    {
     "name": "stdout",
     "output_type": "stream",
     "text": [
      "Stored 'weather_model_h1' (BayesianNetwork)\n"
     ]
    }
   ],
   "source": [
    "# Add CPDs and factors to the model\n",
    "weather_model_h1.add_cpds(weather_cpd, precipitation_cpd, wind_cpd, temp_max_cpd, temp_min_cpd)\n",
    "# Check if model is consistent\n",
    "weather_model_h1.check_model()\n",
    "\n",
    "# Store the model\n",
    "%store weather_model_h1"
   ]
  }
 ],
 "metadata": {
  "kernelspec": {
   "display_name": "Python 3",
   "language": "python",
   "name": "python3"
  },
  "language_info": {
   "codemirror_mode": {
    "name": "ipython",
    "version": 3
   },
   "file_extension": ".py",
   "mimetype": "text/x-python",
   "name": "python",
   "nbconvert_exporter": "python",
   "pygments_lexer": "ipython3",
   "version": "3.11.9"
  }
 },
 "nbformat": 4,
 "nbformat_minor": 2
}
