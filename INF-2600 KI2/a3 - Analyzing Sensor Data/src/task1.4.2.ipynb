{
 "cells": [
  {
   "cell_type": "markdown",
   "metadata": {},
   "source": [
    "# Task 1.4.2\n",
    "\n",
    "Compare the joint probabilities from all the three-hierarchy using either exact or approximate inference? Discuss your results?\n",
    "\n",
    "## Requirements\n",
    "Must run the bellow files before running this file: \n",
    "<ul> \n",
    "<li>precode.ipynb</li>\n",
    "<li>task1.4.1_H1.ipynb</li>\n",
    "<li>task1.4.1_H2.ipynb</li>\n",
    "</ul>\n",
    "<br>"
   ]
  },
  {
   "cell_type": "code",
   "execution_count": 14,
   "metadata": {},
   "outputs": [],
   "source": [
    "from pgmpy.inference import VariableElimination\n",
    "import pandas as pd\n",
    "\n",
    "models = []\n",
    "\n",
    "# Import the models\n",
    "%store -r weather_model\n",
    "models.append(weather_model)\n",
    "\n",
    "%store -r weather_model_h1\n",
    "models.append(weather_model_h1)\n",
    "\n",
    "%store -r weather_model_h2\n",
    "models.append(weather_model_h2)"
   ]
  },
  {
   "cell_type": "code",
   "execution_count": 15,
   "metadata": {},
   "outputs": [
    {
     "name": "stdout",
     "output_type": "stream",
     "text": [
      "                                              Probability\n",
      "weather precipitation wind temp_max temp_min             \n",
      "drizzle mid           mid  mid      mid          0.108610\n",
      "rain    mid           mid  mid      mid          0.093193\n",
      "                      low  mid      mid          0.058345\n",
      "drizzle mid           low  mid      mid          0.049529\n",
      "                      mid  mid      high         0.047731\n",
      "                                              Probability\n",
      "weather precipitation wind temp_max temp_min             \n",
      "drizzle mid           mid  mid      mid          0.104837\n",
      "rain    mid           mid  mid      mid          0.089955\n",
      "                      low  mid      mid          0.057743\n",
      "drizzle mid           low  mid      mid          0.049018\n",
      "                      mid  mid      high         0.048653\n",
      "                                              Probability\n",
      "weather wind precipitation temp_max temp_min             \n",
      "drizzle mid  mid           mid      mid          0.102266\n",
      "rain    mid  mid           mid      mid          0.087750\n",
      "             low           mid      mid          0.057435\n",
      "drizzle mid  low           mid      mid          0.048756\n",
      "             mid           high     mid          0.036597\n"
     ]
    }
   ],
   "source": [
    "\n",
    "for model in models:\n",
    "    inference = VariableElimination(model)\n",
    "    phi_query = inference.query(variables=['weather', 'precipitation', 'wind', 'temp_max', 'temp_min'], show_progress=False)\n",
    "\n",
    "    values = phi_query.values\n",
    "    states = phi_query.state_names\n",
    "\n",
    "    index = pd.MultiIndex.from_product(\n",
    "        [states[var] for var in model.nodes()],\n",
    "        names=model.nodes()\n",
    "    )\n",
    "\n",
    "    # Create the DataFrame\n",
    "    df = pd.DataFrame(values.flatten(), index=index, columns=['Probability'])\n",
    "\n",
    "    # Sort by the 'Probability' column in descending order\n",
    "    top_5 = df.sort_values(by='Probability', ascending=False).head(5)\n",
    "\n",
    "    print(top_5)"
   ]
  }
 ],
 "metadata": {
  "kernelspec": {
   "display_name": "Python 3",
   "language": "python",
   "name": "python3"
  },
  "language_info": {
   "codemirror_mode": {
    "name": "ipython",
    "version": 3
   },
   "file_extension": ".py",
   "mimetype": "text/x-python",
   "name": "python",
   "nbconvert_exporter": "python",
   "pygments_lexer": "ipython3",
   "version": "3.11.9"
  }
 },
 "nbformat": 4,
 "nbformat_minor": 2
}
