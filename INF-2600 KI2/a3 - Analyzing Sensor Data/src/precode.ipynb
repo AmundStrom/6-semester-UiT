{
  "cells": [
    {
      "cell_type": "markdown",
      "metadata": {
        "id": "8nGlHSmtz4Vb"
      },
      "source": [
        "# INF-2600-1 24V Artificial Intelligence: Assignment 3 Pre-code\n",
        "This code implements a Bayesian Network model for Analyzing Sensor Data for Weather Prediction using the pgmpy library in Python."
      ]
    },
    {
      "cell_type": "markdown",
      "metadata": {
        "id": "1orEke6Msm1U"
      },
      "source": [
        "\n",
        "### BUILDING THE STRUCTURE OF BAYESIAN NETWORK: Using PgmPy\n",
        "#### Install Package: `!pip install pgmpy`"
      ]
    },
    {
      "cell_type": "code",
      "execution_count": 255,
      "metadata": {
        "id": "_Dnf0jwzsoK8"
      },
      "outputs": [],
      "source": [
        "# Including the necessary libraries\n",
        "import numpy as np\n",
        "import pandas as pd\n",
        "import seaborn as sns\n",
        "import matplotlib.pyplot as plt\n",
        "\n",
        "from pgmpy.models import BayesianNetwork\n",
        "from pgmpy.factors.discrete import TabularCPD"
      ]
    },
    {
      "cell_type": "markdown",
      "metadata": {
        "id": "8kDXvpvVtFNJ"
      },
      "source": [
        "# Factoring the dataset"
      ]
    },
    {
      "cell_type": "code",
      "execution_count": 256,
      "metadata": {
        "colab": {
          "base_uri": "https://localhost:8080/",
          "height": 206
        },
        "id": "j1UBAX640ozx",
        "outputId": "338206b0-408e-4c58-d0bc-cff2efc89adf"
      },
      "outputs": [
        {
          "data": {
            "text/html": [
              "<div>\n",
              "<style scoped>\n",
              "    .dataframe tbody tr th:only-of-type {\n",
              "        vertical-align: middle;\n",
              "    }\n",
              "\n",
              "    .dataframe tbody tr th {\n",
              "        vertical-align: top;\n",
              "    }\n",
              "\n",
              "    .dataframe thead th {\n",
              "        text-align: right;\n",
              "    }\n",
              "</style>\n",
              "<table border=\"1\" class=\"dataframe\">\n",
              "  <thead>\n",
              "    <tr style=\"text-align: right;\">\n",
              "      <th></th>\n",
              "      <th>date</th>\n",
              "      <th>precipitation</th>\n",
              "      <th>temp_max</th>\n",
              "      <th>temp_min</th>\n",
              "      <th>wind</th>\n",
              "      <th>weather</th>\n",
              "    </tr>\n",
              "  </thead>\n",
              "  <tbody>\n",
              "    <tr>\n",
              "      <th>0</th>\n",
              "      <td>2012-01-01</td>\n",
              "      <td>0.0</td>\n",
              "      <td>12.8</td>\n",
              "      <td>5.0</td>\n",
              "      <td>4.7</td>\n",
              "      <td>drizzle</td>\n",
              "    </tr>\n",
              "    <tr>\n",
              "      <th>1</th>\n",
              "      <td>2012-01-02</td>\n",
              "      <td>10.9</td>\n",
              "      <td>10.6</td>\n",
              "      <td>2.8</td>\n",
              "      <td>4.5</td>\n",
              "      <td>rain</td>\n",
              "    </tr>\n",
              "    <tr>\n",
              "      <th>2</th>\n",
              "      <td>2012-01-03</td>\n",
              "      <td>0.8</td>\n",
              "      <td>11.7</td>\n",
              "      <td>7.2</td>\n",
              "      <td>2.3</td>\n",
              "      <td>rain</td>\n",
              "    </tr>\n",
              "    <tr>\n",
              "      <th>3</th>\n",
              "      <td>2012-01-04</td>\n",
              "      <td>20.3</td>\n",
              "      <td>12.2</td>\n",
              "      <td>5.6</td>\n",
              "      <td>4.7</td>\n",
              "      <td>rain</td>\n",
              "    </tr>\n",
              "    <tr>\n",
              "      <th>4</th>\n",
              "      <td>2012-01-05</td>\n",
              "      <td>1.3</td>\n",
              "      <td>8.9</td>\n",
              "      <td>2.8</td>\n",
              "      <td>6.1</td>\n",
              "      <td>rain</td>\n",
              "    </tr>\n",
              "  </tbody>\n",
              "</table>\n",
              "</div>"
            ],
            "text/plain": [
              "         date  precipitation  temp_max  temp_min  wind  weather\n",
              "0  2012-01-01            0.0      12.8       5.0   4.7  drizzle\n",
              "1  2012-01-02           10.9      10.6       2.8   4.5     rain\n",
              "2  2012-01-03            0.8      11.7       7.2   2.3     rain\n",
              "3  2012-01-04           20.3      12.2       5.6   4.7     rain\n",
              "4  2012-01-05            1.3       8.9       2.8   6.1     rain"
            ]
          },
          "execution_count": 256,
          "metadata": {},
          "output_type": "execute_result"
        }
      ],
      "source": [
        "# Import data, make a copy of the original\n",
        "\n",
        "df0 = pd.read_csv('seattle-weather.csv')\n",
        "dfc1 = df0.copy()\n",
        "dfc1.head()"
      ]
    },
    {
      "cell_type": "code",
      "execution_count": 257,
      "metadata": {
        "colab": {
          "base_uri": "https://localhost:8080/"
        },
        "id": "nFIlg96M0qH1",
        "outputId": "36b3b9f8-9c4b-454f-c811-a77c6c513354"
      },
      "outputs": [
        {
          "name": "stdout",
          "output_type": "stream",
          "text": [
            "<class 'pandas.core.frame.DataFrame'>\n",
            "RangeIndex: 1461 entries, 0 to 1460\n",
            "Data columns (total 6 columns):\n",
            " #   Column         Non-Null Count  Dtype  \n",
            "---  ------         --------------  -----  \n",
            " 0   date           1461 non-null   object \n",
            " 1   precipitation  1461 non-null   float64\n",
            " 2   temp_max       1461 non-null   float64\n",
            " 3   temp_min       1461 non-null   float64\n",
            " 4   wind           1461 non-null   float64\n",
            " 5   weather        1461 non-null   object \n",
            "dtypes: float64(4), object(2)\n",
            "memory usage: 68.6+ KB\n"
          ]
        }
      ],
      "source": [
        "# Get characteristics of dataset including columns with missing data as well:\n",
        "dfc1.info()"
      ]
    },
    {
      "cell_type": "code",
      "execution_count": 258,
      "metadata": {
        "colab": {
          "base_uri": "https://localhost:8080/"
        },
        "id": "J4-9pU7v9xCI",
        "outputId": "b245bb96-df16-40bc-aa50-805e0efa1ec4"
      },
      "outputs": [
        {
          "name": "stdout",
          "output_type": "stream",
          "text": [
            "['drizzle' 'rain' 'sun' 'snow' 'fog']\n"
          ]
        }
      ],
      "source": [
        "# Checking the unique values in the 'weather' column\n",
        "unique_fields = dfc1['weather'].unique()\n",
        "print(unique_fields)"
      ]
    },
    {
      "cell_type": "code",
      "execution_count": 259,
      "metadata": {
        "colab": {
          "base_uri": "https://localhost:8080/",
          "height": 300
        },
        "id": "yHMgO4oF0tUI",
        "outputId": "851f538c-c6f9-40c9-e3ff-66e0c857543b"
      },
      "outputs": [
        {
          "data": {
            "text/html": [
              "<div>\n",
              "<style scoped>\n",
              "    .dataframe tbody tr th:only-of-type {\n",
              "        vertical-align: middle;\n",
              "    }\n",
              "\n",
              "    .dataframe tbody tr th {\n",
              "        vertical-align: top;\n",
              "    }\n",
              "\n",
              "    .dataframe thead th {\n",
              "        text-align: right;\n",
              "    }\n",
              "</style>\n",
              "<table border=\"1\" class=\"dataframe\">\n",
              "  <thead>\n",
              "    <tr style=\"text-align: right;\">\n",
              "      <th></th>\n",
              "      <th>precipitation</th>\n",
              "      <th>temp_max</th>\n",
              "      <th>temp_min</th>\n",
              "      <th>wind</th>\n",
              "    </tr>\n",
              "  </thead>\n",
              "  <tbody>\n",
              "    <tr>\n",
              "      <th>count</th>\n",
              "      <td>1461.000000</td>\n",
              "      <td>1461.000000</td>\n",
              "      <td>1461.000000</td>\n",
              "      <td>1461.000000</td>\n",
              "    </tr>\n",
              "    <tr>\n",
              "      <th>mean</th>\n",
              "      <td>3.029432</td>\n",
              "      <td>16.439083</td>\n",
              "      <td>8.234771</td>\n",
              "      <td>3.241136</td>\n",
              "    </tr>\n",
              "    <tr>\n",
              "      <th>std</th>\n",
              "      <td>6.680194</td>\n",
              "      <td>7.349758</td>\n",
              "      <td>5.023004</td>\n",
              "      <td>1.437825</td>\n",
              "    </tr>\n",
              "    <tr>\n",
              "      <th>min</th>\n",
              "      <td>0.000000</td>\n",
              "      <td>-1.600000</td>\n",
              "      <td>-7.100000</td>\n",
              "      <td>0.400000</td>\n",
              "    </tr>\n",
              "    <tr>\n",
              "      <th>25%</th>\n",
              "      <td>0.000000</td>\n",
              "      <td>10.600000</td>\n",
              "      <td>4.400000</td>\n",
              "      <td>2.200000</td>\n",
              "    </tr>\n",
              "    <tr>\n",
              "      <th>50%</th>\n",
              "      <td>0.000000</td>\n",
              "      <td>15.600000</td>\n",
              "      <td>8.300000</td>\n",
              "      <td>3.000000</td>\n",
              "    </tr>\n",
              "    <tr>\n",
              "      <th>75%</th>\n",
              "      <td>2.800000</td>\n",
              "      <td>22.200000</td>\n",
              "      <td>12.200000</td>\n",
              "      <td>4.000000</td>\n",
              "    </tr>\n",
              "    <tr>\n",
              "      <th>max</th>\n",
              "      <td>55.900000</td>\n",
              "      <td>35.600000</td>\n",
              "      <td>18.300000</td>\n",
              "      <td>9.500000</td>\n",
              "    </tr>\n",
              "  </tbody>\n",
              "</table>\n",
              "</div>"
            ],
            "text/plain": [
              "       precipitation     temp_max     temp_min         wind\n",
              "count    1461.000000  1461.000000  1461.000000  1461.000000\n",
              "mean        3.029432    16.439083     8.234771     3.241136\n",
              "std         6.680194     7.349758     5.023004     1.437825\n",
              "min         0.000000    -1.600000    -7.100000     0.400000\n",
              "25%         0.000000    10.600000     4.400000     2.200000\n",
              "50%         0.000000    15.600000     8.300000     3.000000\n",
              "75%         2.800000    22.200000    12.200000     4.000000\n",
              "max        55.900000    35.600000    18.300000     9.500000"
            ]
          },
          "execution_count": 259,
          "metadata": {},
          "output_type": "execute_result"
        }
      ],
      "source": [
        "dfc1.describe()"
      ]
    },
    {
      "cell_type": "code",
      "execution_count": 260,
      "metadata": {
        "id": "pD6zggr40w1R"
      },
      "outputs": [
        {
          "data": {
            "text/html": [
              "<div>\n",
              "<style scoped>\n",
              "    .dataframe tbody tr th:only-of-type {\n",
              "        vertical-align: middle;\n",
              "    }\n",
              "\n",
              "    .dataframe tbody tr th {\n",
              "        vertical-align: top;\n",
              "    }\n",
              "\n",
              "    .dataframe thead th {\n",
              "        text-align: right;\n",
              "    }\n",
              "</style>\n",
              "<table border=\"1\" class=\"dataframe\">\n",
              "  <thead>\n",
              "    <tr style=\"text-align: right;\">\n",
              "      <th></th>\n",
              "      <th>date</th>\n",
              "      <th>weather</th>\n",
              "    </tr>\n",
              "  </thead>\n",
              "  <tbody>\n",
              "    <tr>\n",
              "      <th>0</th>\n",
              "      <td>2012-01-01</td>\n",
              "      <td>drizzle</td>\n",
              "    </tr>\n",
              "    <tr>\n",
              "      <th>1</th>\n",
              "      <td>2012-01-02</td>\n",
              "      <td>rain</td>\n",
              "    </tr>\n",
              "    <tr>\n",
              "      <th>2</th>\n",
              "      <td>2012-01-03</td>\n",
              "      <td>rain</td>\n",
              "    </tr>\n",
              "    <tr>\n",
              "      <th>3</th>\n",
              "      <td>2012-01-04</td>\n",
              "      <td>rain</td>\n",
              "    </tr>\n",
              "    <tr>\n",
              "      <th>4</th>\n",
              "      <td>2012-01-05</td>\n",
              "      <td>rain</td>\n",
              "    </tr>\n",
              "  </tbody>\n",
              "</table>\n",
              "</div>"
            ],
            "text/plain": [
              "         date  weather\n",
              "0  2012-01-01  drizzle\n",
              "1  2012-01-02     rain\n",
              "2  2012-01-03     rain\n",
              "3  2012-01-04     rain\n",
              "4  2012-01-05     rain"
            ]
          },
          "execution_count": 260,
          "metadata": {},
          "output_type": "execute_result"
        }
      ],
      "source": [
        "# Put categorical varaibles in a list\n",
        "categorical_lst = ['date','weather']\n",
        "# Create a seperate & smaller dataframe for categorical variables\n",
        "dfc2a = pd.DataFrame(dfc1, columns=categorical_lst, copy=True)\n",
        "dfc2a.head()"
      ]
    },
    {
      "cell_type": "code",
      "execution_count": 261,
      "metadata": {
        "id": "lqmWkjP80yd-"
      },
      "outputs": [
        {
          "data": {
            "text/html": [
              "<div>\n",
              "<style scoped>\n",
              "    .dataframe tbody tr th:only-of-type {\n",
              "        vertical-align: middle;\n",
              "    }\n",
              "\n",
              "    .dataframe tbody tr th {\n",
              "        vertical-align: top;\n",
              "    }\n",
              "\n",
              "    .dataframe thead th {\n",
              "        text-align: right;\n",
              "    }\n",
              "</style>\n",
              "<table border=\"1\" class=\"dataframe\">\n",
              "  <thead>\n",
              "    <tr style=\"text-align: right;\">\n",
              "      <th></th>\n",
              "      <th>precipitation</th>\n",
              "      <th>temp_max</th>\n",
              "      <th>temp_min</th>\n",
              "      <th>wind</th>\n",
              "    </tr>\n",
              "  </thead>\n",
              "  <tbody>\n",
              "    <tr>\n",
              "      <th>0</th>\n",
              "      <td>0.0</td>\n",
              "      <td>12.8</td>\n",
              "      <td>5.0</td>\n",
              "      <td>4.7</td>\n",
              "    </tr>\n",
              "    <tr>\n",
              "      <th>1</th>\n",
              "      <td>10.9</td>\n",
              "      <td>10.6</td>\n",
              "      <td>2.8</td>\n",
              "      <td>4.5</td>\n",
              "    </tr>\n",
              "    <tr>\n",
              "      <th>2</th>\n",
              "      <td>0.8</td>\n",
              "      <td>11.7</td>\n",
              "      <td>7.2</td>\n",
              "      <td>2.3</td>\n",
              "    </tr>\n",
              "    <tr>\n",
              "      <th>3</th>\n",
              "      <td>20.3</td>\n",
              "      <td>12.2</td>\n",
              "      <td>5.6</td>\n",
              "      <td>4.7</td>\n",
              "    </tr>\n",
              "    <tr>\n",
              "      <th>4</th>\n",
              "      <td>1.3</td>\n",
              "      <td>8.9</td>\n",
              "      <td>2.8</td>\n",
              "      <td>6.1</td>\n",
              "    </tr>\n",
              "  </tbody>\n",
              "</table>\n",
              "</div>"
            ],
            "text/plain": [
              "   precipitation  temp_max  temp_min  wind\n",
              "0            0.0      12.8       5.0   4.7\n",
              "1           10.9      10.6       2.8   4.5\n",
              "2            0.8      11.7       7.2   2.3\n",
              "3           20.3      12.2       5.6   4.7\n",
              "4            1.3       8.9       2.8   6.1"
            ]
          },
          "execution_count": 261,
          "metadata": {},
          "output_type": "execute_result"
        }
      ],
      "source": [
        "# Put all continuous variables into a list\n",
        "continuous_lst = ['precipitation', 'temp_max', 'temp_min', 'wind']\n",
        "# Create a seperate & smaller dataframe for our chosen variables. Use 'copy=True' so changes wont affect original\n",
        "dfc2b = pd.DataFrame(dfc1, columns=continuous_lst, copy=True)\n",
        "dfc2b.head()"
      ]
    },
    {
      "cell_type": "markdown",
      "metadata": {
        "id": "TLtIxsxL01vX"
      },
      "source": [
        "### Create new dataframe"
      ]
    },
    {
      "cell_type": "code",
      "execution_count": 262,
      "metadata": {
        "id": "rSVcV5pL01_x"
      },
      "outputs": [
        {
          "data": {
            "text/html": [
              "<div>\n",
              "<style scoped>\n",
              "    .dataframe tbody tr th:only-of-type {\n",
              "        vertical-align: middle;\n",
              "    }\n",
              "\n",
              "    .dataframe tbody tr th {\n",
              "        vertical-align: top;\n",
              "    }\n",
              "\n",
              "    .dataframe thead th {\n",
              "        text-align: right;\n",
              "    }\n",
              "</style>\n",
              "<table border=\"1\" class=\"dataframe\">\n",
              "  <thead>\n",
              "    <tr style=\"text-align: right;\">\n",
              "      <th></th>\n",
              "      <th>date</th>\n",
              "      <th>precipitation</th>\n",
              "      <th>temp_max</th>\n",
              "      <th>temp_min</th>\n",
              "      <th>wind</th>\n",
              "      <th>weather</th>\n",
              "    </tr>\n",
              "  </thead>\n",
              "  <tbody>\n",
              "    <tr>\n",
              "      <th>0</th>\n",
              "      <td>2012-01-01</td>\n",
              "      <td>0.0</td>\n",
              "      <td>12.8</td>\n",
              "      <td>5.0</td>\n",
              "      <td>4.7</td>\n",
              "      <td>drizzle</td>\n",
              "    </tr>\n",
              "    <tr>\n",
              "      <th>1</th>\n",
              "      <td>2012-01-02</td>\n",
              "      <td>10.9</td>\n",
              "      <td>10.6</td>\n",
              "      <td>2.8</td>\n",
              "      <td>4.5</td>\n",
              "      <td>rain</td>\n",
              "    </tr>\n",
              "    <tr>\n",
              "      <th>2</th>\n",
              "      <td>2012-01-03</td>\n",
              "      <td>0.8</td>\n",
              "      <td>11.7</td>\n",
              "      <td>7.2</td>\n",
              "      <td>2.3</td>\n",
              "      <td>rain</td>\n",
              "    </tr>\n",
              "    <tr>\n",
              "      <th>3</th>\n",
              "      <td>2012-01-04</td>\n",
              "      <td>20.3</td>\n",
              "      <td>12.2</td>\n",
              "      <td>5.6</td>\n",
              "      <td>4.7</td>\n",
              "      <td>rain</td>\n",
              "    </tr>\n",
              "    <tr>\n",
              "      <th>4</th>\n",
              "      <td>2012-01-05</td>\n",
              "      <td>1.3</td>\n",
              "      <td>8.9</td>\n",
              "      <td>2.8</td>\n",
              "      <td>6.1</td>\n",
              "      <td>rain</td>\n",
              "    </tr>\n",
              "  </tbody>\n",
              "</table>\n",
              "</div>"
            ],
            "text/plain": [
              "         date  precipitation  temp_max  temp_min  wind  weather\n",
              "0  2012-01-01            0.0      12.8       5.0   4.7  drizzle\n",
              "1  2012-01-02           10.9      10.6       2.8   4.5     rain\n",
              "2  2012-01-03            0.8      11.7       7.2   2.3     rain\n",
              "3  2012-01-04           20.3      12.2       5.6   4.7     rain\n",
              "4  2012-01-05            1.3       8.9       2.8   6.1     rain"
            ]
          },
          "execution_count": 262,
          "metadata": {},
          "output_type": "execute_result"
        }
      ],
      "source": [
        "# Create new df with variables we want to work with:\n",
        "new_cols = ['date', 'precipitation', 'temp_max', 'temp_min', 'wind', 'weather']\n",
        "\n",
        "df = df0[new_cols]\n",
        "df.head()"
      ]
    },
    {
      "cell_type": "code",
      "execution_count": 263,
      "metadata": {
        "id": "0eVsX_2t3HYN"
      },
      "outputs": [
        {
          "data": {
            "text/plain": [
              "date             False\n",
              "precipitation    False\n",
              "temp_max         False\n",
              "temp_min         False\n",
              "wind             False\n",
              "weather          False\n",
              "dtype: bool"
            ]
          },
          "execution_count": 263,
          "metadata": {},
          "output_type": "execute_result"
        }
      ],
      "source": [
        "# Let's show all columns with missing data as well:\n",
        "df[df.isnull().any(axis=1)] # any missing data in columns\n",
        "df.isnull().any()"
      ]
    },
    {
      "cell_type": "code",
      "execution_count": 264,
      "metadata": {
        "colab": {
          "base_uri": "https://localhost:8080/",
          "height": 206
        },
        "id": "YDZTIG8w06pU",
        "outputId": "b162c88d-a4fc-4f02-83df-8d6c28a99a60"
      },
      "outputs": [
        {
          "data": {
            "text/html": [
              "<div>\n",
              "<style scoped>\n",
              "    .dataframe tbody tr th:only-of-type {\n",
              "        vertical-align: middle;\n",
              "    }\n",
              "\n",
              "    .dataframe tbody tr th {\n",
              "        vertical-align: top;\n",
              "    }\n",
              "\n",
              "    .dataframe thead th {\n",
              "        text-align: right;\n",
              "    }\n",
              "</style>\n",
              "<table border=\"1\" class=\"dataframe\">\n",
              "  <thead>\n",
              "    <tr style=\"text-align: right;\">\n",
              "      <th></th>\n",
              "      <th>date</th>\n",
              "      <th>precipitation</th>\n",
              "      <th>temp_max</th>\n",
              "      <th>temp_min</th>\n",
              "      <th>wind</th>\n",
              "      <th>weather</th>\n",
              "    </tr>\n",
              "  </thead>\n",
              "  <tbody>\n",
              "    <tr>\n",
              "      <th>0</th>\n",
              "      <td>2012-01-01</td>\n",
              "      <td>moderate</td>\n",
              "      <td>moderate</td>\n",
              "      <td>moderate</td>\n",
              "      <td>high</td>\n",
              "      <td>drizzle</td>\n",
              "    </tr>\n",
              "    <tr>\n",
              "      <th>1</th>\n",
              "      <td>2012-01-02</td>\n",
              "      <td>high</td>\n",
              "      <td>moderate</td>\n",
              "      <td>low</td>\n",
              "      <td>moderate</td>\n",
              "      <td>rain</td>\n",
              "    </tr>\n",
              "    <tr>\n",
              "      <th>2</th>\n",
              "      <td>2012-01-03</td>\n",
              "      <td>moderate</td>\n",
              "      <td>moderate</td>\n",
              "      <td>moderate</td>\n",
              "      <td>moderate</td>\n",
              "      <td>rain</td>\n",
              "    </tr>\n",
              "    <tr>\n",
              "      <th>3</th>\n",
              "      <td>2012-01-04</td>\n",
              "      <td>high</td>\n",
              "      <td>moderate</td>\n",
              "      <td>moderate</td>\n",
              "      <td>high</td>\n",
              "      <td>rain</td>\n",
              "    </tr>\n",
              "    <tr>\n",
              "      <th>4</th>\n",
              "      <td>2012-01-05</td>\n",
              "      <td>moderate</td>\n",
              "      <td>low</td>\n",
              "      <td>low</td>\n",
              "      <td>high</td>\n",
              "      <td>rain</td>\n",
              "    </tr>\n",
              "  </tbody>\n",
              "</table>\n",
              "</div>"
            ],
            "text/plain": [
              "         date precipitation  temp_max  temp_min      wind  weather\n",
              "0  2012-01-01      moderate  moderate  moderate      high  drizzle\n",
              "1  2012-01-02          high  moderate       low  moderate     rain\n",
              "2  2012-01-03      moderate  moderate  moderate  moderate     rain\n",
              "3  2012-01-04          high  moderate  moderate      high     rain\n",
              "4  2012-01-05      moderate       low       low      high     rain"
            ]
          },
          "execution_count": 264,
          "metadata": {},
          "output_type": "execute_result"
        }
      ],
      "source": [
        "num_stdv = 1\n",
        "\n",
        "# Define the labels dictionary\n",
        "labels = {\n",
        "    'precipitation': ['low', 'moderate', 'high'],\n",
        "    'temp_max': ['low', 'moderate', 'high'],\n",
        "    'temp_min': ['low', 'moderate', 'high'],\n",
        "    'wind': ['low', 'moderate', 'high']\n",
        "}\n",
        "\n",
        "# Create bounds for continuous labels\n",
        "for col in df.columns:\n",
        "    if col in labels:\n",
        "        col_mean = df[col].mean()\n",
        "        col_stvd = df[col].std()\n",
        "        lower = col_mean - col_stvd * num_stdv\n",
        "        upper = col_mean + col_stvd * num_stdv\n",
        "        bins = [-float('inf'), lower, upper, float('inf')]\n",
        "        df[col] = pd.cut(df[col], bins=bins, labels=labels[col])\n",
        "\n",
        "df.head()\n"
      ]
    },
    {
      "cell_type": "markdown",
      "metadata": {
        "id": "eG6lW2LPsspt"
      },
      "source": [
        "# Creating Bayes Nets"
      ]
    },
    {
      "cell_type": "code",
      "execution_count": 265,
      "metadata": {
        "id": "4jLlqnOisqre"
      },
      "outputs": [
        {
          "name": "stdout",
          "output_type": "stream",
          "text": [
            "['drizzle', 'rain', 'sun', 'snow', 'fog']\n"
          ]
        }
      ],
      "source": [
        "# Define the hierarchy\n",
        "weather_model = BayesianNetwork([\n",
        "       ('weather', 'precipitation'), ('weather', 'wind'),\n",
        "       ('precipitation', 'temp_max'),\n",
        "       ('wind', 'temp_min')\n",
        "])\n",
        "\n",
        "# And, the states for each variables\n",
        "precipitation_states = ['low', 'mid', 'high']\n",
        "temp_max_states = ['low', 'mid', 'high']\n",
        "temp_min_states = ['low', 'mid', 'high']\n",
        "wind_states = ['low', 'mid', 'high']\n",
        "weather_states = ['drizzle', 'rain', 'sun', 'snow', 'fog']\n",
        "\n",
        "print(weather_states)"
      ]
    },
    {
      "cell_type": "code",
      "execution_count": 266,
      "metadata": {
        "id": "YfJQrK90s1mh"
      },
      "outputs": [
        {
          "name": "stderr",
          "output_type": "stream",
          "text": [
            "C:\\Users\\Admin\\AppData\\Local\\Temp\\ipykernel_7920\\3491777891.py:21: FutureWarning: The default of observed=False is deprecated and will be changed to True in a future version of pandas. Pass observed=False to retain current behavior or observed=True to adopt the future default and silence this warning.\n",
            "  value_given_key = df.groupby(key)[value[i]].value_counts(normalize=True).sort_index()\n",
            "C:\\Users\\Admin\\AppData\\Local\\Temp\\ipykernel_7920\\3491777891.py:21: FutureWarning: The default of observed=False is deprecated and will be changed to True in a future version of pandas. Pass observed=False to retain current behavior or observed=True to adopt the future default and silence this warning.\n",
            "  value_given_key = df.groupby(key)[value[i]].value_counts(normalize=True).sort_index()\n"
          ]
        }
      ],
      "source": [
        "# Calculate Probabilities\n",
        "\n",
        "# Weather does not have any parents so all we need are the marginal probabilities of observing each weather type\n",
        "weather_marginal = (df['weather'].value_counts()/len(df['weather'])).round(3)\n",
        "weather_marginal = np.array([[value] for value in weather_marginal])\n",
        "\n",
        "\n",
        "# Joint Propabilities\n",
        "# Create dict where key=parent, value=child\n",
        "var_dict = {\n",
        "           'weather': ['precipitation', 'wind'],\n",
        "           'precipitation': ['temp_max'],\n",
        "           'wind': ['temp_min'],\n",
        "           }\n",
        "\n",
        "# Create conditional distributions and store results in a list\n",
        "cpd_lst = []\n",
        "for key, value in var_dict.items():\n",
        "   length = len(value)\n",
        "   for i in range(length):\n",
        "       value_given_key = df.groupby(key)[value[i]].value_counts(normalize=True).sort_index()\n",
        "       cpd = value_given_key.unstack(fill_value=0).to_numpy().T\n",
        "       cpd_lst.append(cpd)\n",
        "\n",
        "# Note that we get 3 Nan values in the above conditional distributions. This is because one of the type of precipitation (low) did not contain any relation with temp_max.\n",
        "# Therefore, normalization, does not produce the intended result.\n",
        "# To mitigate this, we replace Nan with the equal probability within the three values, i.e., 0.33\n",
        "cpd_lst[2][:,0] = .33\n",
        "\n",
        "# print(cpd_lst)"
      ]
    },
    {
      "cell_type": "code",
      "execution_count": 267,
      "metadata": {
        "id": "WM28YMt-s2b_"
      },
      "outputs": [],
      "source": [
        "# Creating tabular conditional probability distribution\n",
        "weather_cpd = TabularCPD(variable='weather', variable_card=5, values=weather_marginal, state_names={'weather': weather_states})\n",
        "\n",
        "precipitation_cpd = TabularCPD(variable='precipitation', variable_card=3, evidence=['weather'], evidence_card=[5],\n",
        "                              values=cpd_lst[0], state_names={'precipitation': precipitation_states, 'weather': weather_states})\n",
        "wind_cpd = TabularCPD(variable='wind', variable_card=3, evidence=['weather'], evidence_card=[5],\n",
        "                              values=cpd_lst[1], state_names={'wind': wind_states, 'weather': weather_states})\n",
        "temp_max_cpd = TabularCPD(variable='temp_max', variable_card=3, evidence=['precipitation'], evidence_card=[3],\n",
        "                              values=cpd_lst[2], state_names={'temp_max': temp_max_states, 'precipitation': precipitation_states})\n",
        "temp_min_cpd = TabularCPD(variable='temp_min', variable_card=3, evidence=['wind'], evidence_card=[3],\n",
        "                              values=cpd_lst[3], state_names={'temp_min': temp_min_states, 'wind': wind_states})"
      ]
    },
    {
      "cell_type": "code",
      "execution_count": 268,
      "metadata": {
        "id": "zrJIsmU7s_5N"
      },
      "outputs": [
        {
          "name": "stdout",
          "output_type": "stream",
          "text": [
            "Stored 'weather_model' (BayesianNetwork)\n"
          ]
        }
      ],
      "source": [
        "# Add CPDs and factors to the model\n",
        "weather_model.add_cpds(weather_cpd, precipitation_cpd, wind_cpd, temp_max_cpd, temp_min_cpd)\n",
        "# Check if model is consistent\n",
        "weather_model.check_model()\n",
        "\n",
        "# Store the model\n",
        "%store weather_model"
      ]
    },
    {
      "cell_type": "code",
      "execution_count": 269,
      "metadata": {
        "colab": {
          "base_uri": "https://localhost:8080/"
        },
        "id": "iWEUCooE6Y-z",
        "outputId": "6c9b3be0-c654-442b-a195-a306f902522b"
      },
      "outputs": [
        {
          "data": {
            "text/plain": [
              "NodeView(('weather', 'precipitation', 'wind', 'temp_max', 'temp_min'))"
            ]
          },
          "execution_count": 269,
          "metadata": {},
          "output_type": "execute_result"
        }
      ],
      "source": [
        "# Viewing nodes of the model\n",
        "weather_model.nodes()"
      ]
    },
    {
      "cell_type": "code",
      "execution_count": 270,
      "metadata": {
        "colab": {
          "base_uri": "https://localhost:8080/"
        },
        "id": "udgc3c0G6lTJ",
        "outputId": "a1267d64-55f1-4acc-cbee-bfbffb2e00fb"
      },
      "outputs": [
        {
          "data": {
            "text/plain": [
              "OutEdgeView([('weather', 'precipitation'), ('weather', 'wind'), ('precipitation', 'temp_max'), ('wind', 'temp_min')])"
            ]
          },
          "execution_count": 270,
          "metadata": {},
          "output_type": "execute_result"
        }
      ],
      "source": [
        "# Viewing edges of the model\n",
        "weather_model.edges()"
      ]
    },
    {
      "cell_type": "code",
      "execution_count": 271,
      "metadata": {
        "id": "hHv1dS0p6raG"
      },
      "outputs": [
        {
          "name": "stdout",
          "output_type": "stream",
          "text": [
            "+------------------+-------+\n",
            "| weather(drizzle) | 0.439 |\n",
            "+------------------+-------+\n",
            "| weather(rain)    | 0.438 |\n",
            "+------------------+-------+\n",
            "| weather(sun)     | 0.069 |\n",
            "+------------------+-------+\n",
            "| weather(snow)    | 0.036 |\n",
            "+------------------+-------+\n",
            "| weather(fog)     | 0.018 |\n",
            "+------------------+-------+\n",
            "+------------+----------------------+-----+--------------+\n",
            "| weather    | weather(drizzle)     | ... | weather(fog) |\n",
            "+------------+----------------------+-----+--------------+\n",
            "| wind(low)  | 0.3018867924528302   | ... | 0.140625     |\n",
            "+------------+----------------------+-----+--------------+\n",
            "| wind(mid)  | 0.6792452830188679   | ... | 0.775        |\n",
            "+------------+----------------------+-----+--------------+\n",
            "| wind(high) | 0.018867924528301886 | ... | 0.084375     |\n",
            "+------------+----------------------+-----+--------------+\n"
          ]
        }
      ],
      "source": [
        "# Print the probability table of the weather node\n",
        "print(weather_cpd)\n",
        "\n",
        "# Print the probability table of the wind node\n",
        "print(wind_cpd)"
      ]
    },
    {
      "cell_type": "code",
      "execution_count": 272,
      "metadata": {
        "id": "dSTNY8Mv7P5b"
      },
      "outputs": [
        {
          "data": {
            "text/plain": [
              "(temp_max ⟂ temp_min, weather, wind | precipitation)"
            ]
          },
          "execution_count": 272,
          "metadata": {},
          "output_type": "execute_result"
        }
      ],
      "source": [
        "# Independcies in the model\n",
        "weather_model.get_independencies()\n",
        "\n",
        "# Checking independcies of a particular node\n",
        "weather_model.local_independencies(\"temp_max\")"
      ]
    },
    {
      "cell_type": "markdown",
      "metadata": {
        "id": "DLGlLT-u1mgI"
      },
      "source": [
        "# Task 1.2"
      ]
    },
    {
      "cell_type": "code",
      "execution_count": 273,
      "metadata": {
        "id": "f7Bp2mCD1ocl"
      },
      "outputs": [],
      "source": [
        "from pgmpy.inference import VariableElimination\n",
        "\n",
        "inference = VariableElimination(weather_model)"
      ]
    },
    {
      "cell_type": "code",
      "execution_count": 274,
      "metadata": {
        "id": "6C1h4iFn1ut3"
      },
      "outputs": [
        {
          "name": "stdout",
          "output_type": "stream",
          "text": [
            "Probability of high wind when the weather is sunny: 0.2542901716068643\n",
            "Probability of sunny weather when the wind is high: 0.24117511076942655\n"
          ]
        }
      ],
      "source": [
        "# Question 1:\n",
        "\n",
        "# (a) What is the probability of high wind when the weather is sunny?\n",
        "phi_query = inference.query(variables=['wind'], evidence={'weather' : 'sun'})\n",
        "print(\"Probability of high wind when the weather is sunny:\", phi_query.values[2])\n",
        "\n",
        "# (b) What is the probability of sunny weather when the wind is high?\n",
        "phi_query = inference.query(variables=['weather'], evidence={'wind' : 'high'})\n",
        "print(\"Probability of sunny weather when the wind is high:\", phi_query.values[2])\n"
      ]
    },
    {
      "cell_type": "code",
      "execution_count": 275,
      "metadata": {
        "id": "1-oEFaGh4ev5"
      },
      "outputs": [
        {
          "name": "stdout",
          "output_type": "stream",
          "text": [
            "The most probable condition {'temp_min': 'mid', 'precipitation': 'mid', 'weather': 'drizzle', 'wind': 'mid', 'temp_max': 'mid'}\n",
            "The most probable condition for precipitation, wind and weather {'weather': 'drizzle', 'precipitation': 'mid', 'wind': 'mid'}\n"
          ]
        }
      ],
      "source": [
        "# Question 2:\n",
        "# (a) Calculate all the possible joint probability and determine the best probable condition. Explain your results?\n",
        "\n",
        "# Returns the highest probable state in the joint distribution of variables.\n",
        "phi_query = inference.map_query(variables=['weather', 'precipitation', 'wind', 'temp_max', 'temp_min'], show_progress=False)\n",
        "print(\"The most probable condition\", phi_query)\n",
        "\n",
        "    \n",
        "# (b) What is the most probable condition for precipitation, wind and weather, combined?\n",
        "\n",
        "# Returns the highest probable state in the joint distribution of variables.\n",
        "phi_query = inference.map_query(variables=['weather', 'precipitation', 'wind'], show_progress=False)\n",
        "print(\"The most probable condition for precipitation, wind and weather\", phi_query)\n",
        "\n"
      ]
    },
    {
      "cell_type": "code",
      "execution_count": 276,
      "metadata": {
        "id": "pqiWpd1h6Wsd"
      },
      "outputs": [
        {
          "name": "stdout",
          "output_type": "stream",
          "text": [
            "The probability associated with each weather state, given that the precipitation is medium\n",
            "+------------------+----------------+\n",
            "| weather          |   phi(weather) |\n",
            "+==================+================+\n",
            "| weather(drizzle) |         0.4508 |\n",
            "+------------------+----------------+\n",
            "| weather(rain)    |         0.4498 |\n",
            "+------------------+----------------+\n",
            "| weather(sun)     |         0.0553 |\n",
            "+------------------+----------------+\n",
            "| weather(snow)    |         0.0256 |\n",
            "+------------------+----------------+\n",
            "| weather(fog)     |         0.0185 |\n",
            "+------------------+----------------+\n"
          ]
        }
      ],
      "source": [
        "# Question 3. Find the probability associated with each weather, given that the precipitation is medium? Explain your result.\n",
        "phi_query = inference.query(variables=['weather'], evidence={'precipitation' : 'mid'})\n",
        "\n",
        "print(\"The probability associated with each weather state, given that the precipitation is medium\")\n",
        "print(phi_query)\n"
      ]
    },
    {
      "cell_type": "code",
      "execution_count": 277,
      "metadata": {
        "id": "kHFGTqpRDIgy"
      },
      "outputs": [
        {
          "name": "stdout",
          "output_type": "stream",
          "text": [
            "The probability associated with each weather state, given that precipitation is medium and wind is low or medium\n",
            "+------------------+----------------+\n",
            "| weather          |   phi(weather) |\n",
            "+==================+================+\n",
            "| weather(drizzle) |         0.4872 |\n",
            "+------------------+----------------+\n",
            "| weather(rain)    |         0.4180 |\n",
            "+------------------+----------------+\n",
            "| weather(sun)     |         0.0564 |\n",
            "+------------------+----------------+\n",
            "| weather(snow)    |         0.0157 |\n",
            "+------------------+----------------+\n",
            "| weather(fog)     |         0.0228 |\n",
            "+------------------+----------------+\n"
          ]
        }
      ],
      "source": [
        "# Question 4. What is the probability of each weather condition given that precipitation is medium and wind is low or medium? \n",
        "# Explain your method and results. How does the result change with the addition of wind factor compared to question 3 of Task 1.2?\n",
        "phi_query = inference.query(variables=['weather'], evidence={'precipitation' : 'mid', 'wind' : 'low', 'wind' : 'mid'})\n",
        "\n",
        "print(\"The probability associated with each weather state, given that precipitation is medium and wind is low or medium\")\n",
        "print(phi_query)\n"
      ]
    },
    {
      "cell_type": "markdown",
      "metadata": {
        "id": "Kjsqw6ktHlbU"
      },
      "source": [
        "# Task 1.3 - Approximate Inference"
      ]
    },
    {
      "cell_type": "markdown",
      "metadata": {
        "id": "C5tLD8SIJdvz"
      },
      "source": [
        "## Likelihood Weighted Sample\n",
        "\n",
        "Generates weighted sample(s) from joint distribution of the Bayesian Network, that comply with the given evidence."
      ]
    },
    {
      "cell_type": "code",
      "execution_count": 278,
      "metadata": {
        "id": "Qgf1j-UpMJF2"
      },
      "outputs": [],
      "source": [
        "from pgmpy.factors.discrete import State\n",
        "from pgmpy.sampling import BayesianModelSampling\n",
        "\n",
        "inference = BayesianModelSampling(weather_model)"
      ]
    },
    {
      "cell_type": "code",
      "execution_count": 279,
      "metadata": {
        "id": "dJzv6qTcO4m8"
      },
      "outputs": [
        {
          "name": "stdout",
          "output_type": "stream",
          "text": [
            "The probability of high wind when the weather is sunny:  0.25411\n"
          ]
        },
        {
          "name": "stderr",
          "output_type": "stream",
          "text": [
            "C:\\Users\\Admin\\AppData\\Local\\Packages\\PythonSoftwareFoundation.Python.3.11_qbz5n2kfra8p0\\LocalCache\\local-packages\\Python311\\site-packages\\pgmpy\\sampling\\base.py:598: FutureWarning: Passing a DataFrame to DataFrame.from_records is deprecated. Use set_index and/or drop to modify the DataFrame instead.\n",
            "  df = pd.DataFrame.from_records(samples)\n"
          ]
        }
      ],
      "source": [
        "# Repeat Q.1. (a) of Task 1.2 - What is the probability of high wind when the weather is sunny?\n",
        "evidence = [State('weather', 'sun')]\n",
        "\n",
        "# Generates weighted sample(s) from joint distribution of the Bayesian Network, that comply with the given evidence\n",
        "weighted_sample = inference.likelihood_weighted_sample(evidence=evidence, size=100000, show_progress=False)\n",
        "\n",
        "weighted_probability = weighted_sample['wind'].value_counts(normalize=True)['high']\n",
        "print(\"The probability of high wind when the weather is sunny: \", weighted_probability)"
      ]
    },
    {
      "cell_type": "code",
      "execution_count": 280,
      "metadata": {
        "id": "lI68QNwgJalj"
      },
      "outputs": [
        {
          "name": "stdout",
          "output_type": "stream",
          "text": [
            "The probability of sunny weather when the wind is high:  0.06887\n"
          ]
        },
        {
          "name": "stderr",
          "output_type": "stream",
          "text": [
            "C:\\Users\\Admin\\AppData\\Local\\Packages\\PythonSoftwareFoundation.Python.3.11_qbz5n2kfra8p0\\LocalCache\\local-packages\\Python311\\site-packages\\pgmpy\\sampling\\base.py:598: FutureWarning: Passing a DataFrame to DataFrame.from_records is deprecated. Use set_index and/or drop to modify the DataFrame instead.\n",
            "  df = pd.DataFrame.from_records(samples)\n"
          ]
        }
      ],
      "source": [
        "# Repeat Q.1. (b) of Task 1.2 - What is the probability of sunny weather when the wind is high?\n",
        "evidence = [State('wind', 'high')]\n",
        "\n",
        "# Generates weighted sample(s) from joint distribution of the Bayesian Network, that comply with the given evidence\n",
        "weighted_sample = inference.likelihood_weighted_sample(evidence=evidence, size=100000, show_progress=False)\n",
        "\n",
        "weighted_probability = weighted_sample['weather'].value_counts(normalize=True)['sun']\n",
        "print(\"The probability of sunny weather when the wind is high: \", weighted_probability)"
      ]
    },
    {
      "cell_type": "markdown",
      "metadata": {
        "id": "-cxZxPokPP-O"
      },
      "source": [
        "## Rejection Sampling"
      ]
    },
    {
      "cell_type": "code",
      "execution_count": 281,
      "metadata": {
        "id": "dFwIjAp3PPY_"
      },
      "outputs": [
        {
          "name": "stderr",
          "output_type": "stream",
          "text": [
            "Generating for node: temp_min: 100%|██████████| 5/5 [00:00<00:00, 128.21it/s]"
          ]
        },
        {
          "name": "stdout",
          "output_type": "stream",
          "text": [
            "The most probable condition {'weather': 'drizzle', 'precipitation': 'mid', 'wind': 'mid', 'temp_max': 'mid', 'temp_min': 'mid'}\n"
          ]
        },
        {
          "name": "stderr",
          "output_type": "stream",
          "text": [
            "\n",
            "C:\\Users\\Admin\\AppData\\Local\\Packages\\PythonSoftwareFoundation.Python.3.11_qbz5n2kfra8p0\\LocalCache\\local-packages\\Python311\\site-packages\\pgmpy\\sampling\\base.py:598: FutureWarning: Passing a DataFrame to DataFrame.from_records is deprecated. Use set_index and/or drop to modify the DataFrame instead.\n",
            "  df = pd.DataFrame.from_records(samples)\n"
          ]
        }
      ],
      "source": [
        "# Repeat Q.2 . (a) of Task 1.2 - Calculate all the possible joint probability and determine the best probable condition. Explain your results?\n",
        "rejection_sample = inference.rejection_sample(size=10000, show_progress=False)\n",
        "\n",
        "rejection_counts = rejection_sample.value_counts(normalize=True)\n",
        "\n",
        "conditions = rejection_counts.idxmax()\n",
        "\n",
        "condition = {}\n",
        "for index, node in enumerate(weather_model.nodes()):\n",
        "    condition[node] = conditions[index]\n",
        "\n",
        "print(\"The most probable condition\", condition)"
      ]
    },
    {
      "cell_type": "code",
      "execution_count": 282,
      "metadata": {
        "id": "9DS0j7ajLbov"
      },
      "outputs": [
        {
          "name": "stderr",
          "output_type": "stream",
          "text": [
            "Generating for node: temp_min: 100%|██████████| 5/5 [00:00<00:00, 126.40it/s]"
          ]
        },
        {
          "name": "stdout",
          "output_type": "stream",
          "text": [
            "The most probable condition for precipitation, wind and weather {'precipitation': 'mid', 'wind': 'mid', 'weather': 'drizzle'}\n"
          ]
        },
        {
          "name": "stderr",
          "output_type": "stream",
          "text": [
            "\n",
            "C:\\Users\\Admin\\AppData\\Local\\Packages\\PythonSoftwareFoundation.Python.3.11_qbz5n2kfra8p0\\LocalCache\\local-packages\\Python311\\site-packages\\pgmpy\\sampling\\base.py:598: FutureWarning: Passing a DataFrame to DataFrame.from_records is deprecated. Use set_index and/or drop to modify the DataFrame instead.\n",
            "  df = pd.DataFrame.from_records(samples)\n"
          ]
        }
      ],
      "source": [
        "# Repeat Q.2 . (b) of Task 1.2 - What is the most probable condition for precipitation, wind and weather, combined?\n",
        "combination = ['precipitation', 'wind', 'weather']\n",
        "rejection_sample = inference.rejection_sample(size=10000, show_progress=False)[combination]\n",
        "\n",
        "rejection_counts = rejection_sample.value_counts(normalize=True)\n",
        "\n",
        "conditions = rejection_counts.idxmax()\n",
        "\n",
        "condition = {}\n",
        "for index, node in enumerate(combination):\n",
        "    condition[node] = conditions[index]\n",
        "\n",
        "print(\"The most probable condition for precipitation, wind and weather\", condition)"
      ]
    },
    {
      "cell_type": "markdown",
      "metadata": {
        "id": "OPYm8MwWJkz_"
      },
      "source": [
        "## Approx Inference"
      ]
    },
    {
      "cell_type": "code",
      "execution_count": 283,
      "metadata": {
        "id": "Z5T8q0KbAVsd"
      },
      "outputs": [],
      "source": [
        "from pgmpy.inference import ApproxInference\n",
        "\n",
        "inference = ApproxInference(weather_model)"
      ]
    },
    {
      "cell_type": "code",
      "execution_count": 284,
      "metadata": {
        "id": "arv0oy_OPJxA"
      },
      "outputs": [
        {
          "name": "stdout",
          "output_type": "stream",
          "text": [
            "The probability associated with each weather state, given that the precipitation is medium\n",
            "+------------------+----------------+\n",
            "| weather          |   phi(weather) |\n",
            "+==================+================+\n",
            "| weather(drizzle) |         0.4472 |\n",
            "+------------------+----------------+\n",
            "| weather(sun)     |         0.0564 |\n",
            "+------------------+----------------+\n",
            "| weather(rain)    |         0.4532 |\n",
            "+------------------+----------------+\n",
            "| weather(fog)     |         0.0168 |\n",
            "+------------------+----------------+\n",
            "| weather(snow)    |         0.0264 |\n",
            "+------------------+----------------+\n"
          ]
        },
        {
          "name": "stderr",
          "output_type": "stream",
          "text": [
            "C:\\Users\\Admin\\AppData\\Local\\Packages\\PythonSoftwareFoundation.Python.3.11_qbz5n2kfra8p0\\LocalCache\\local-packages\\Python311\\site-packages\\pgmpy\\sampling\\base.py:598: FutureWarning: Passing a DataFrame to DataFrame.from_records is deprecated. Use set_index and/or drop to modify the DataFrame instead.\n",
            "  df = pd.DataFrame.from_records(samples)\n"
          ]
        }
      ],
      "source": [
        "# Repeat Q.3 of Task 1.2 - Find the probability associated with each weather, given that the precipitation is medium? Explain your result.\n",
        "phi_query = inference.query(variables=['weather'], evidence={'precipitation' : 'mid'}, show_progress=False)\n",
        "\n",
        "print(\"The probability associated with each weather state, given that the precipitation is medium\")\n",
        "print(phi_query)\n"
      ]
    },
    {
      "cell_type": "markdown",
      "metadata": {
        "id": "a_4fNI7NPZEc"
      },
      "source": [
        "# Normal Sampling"
      ]
    },
    {
      "cell_type": "code",
      "execution_count": 285,
      "metadata": {
        "id": "FvkmgoARHkuV"
      },
      "outputs": [
        {
          "name": "stderr",
          "output_type": "stream",
          "text": [
            "C:\\Users\\Admin\\AppData\\Local\\Packages\\PythonSoftwareFoundation.Python.3.11_qbz5n2kfra8p0\\LocalCache\\local-packages\\Python311\\site-packages\\pgmpy\\sampling\\base.py:598: FutureWarning: Passing a DataFrame to DataFrame.from_records is deprecated. Use set_index and/or drop to modify the DataFrame instead.\n",
            "  df = pd.DataFrame.from_records(samples)\n"
          ]
        },
        {
          "name": "stdout",
          "output_type": "stream",
          "text": [
            "The probability associated with each weather state, given that precipitation is medium and wind is low or medium\n",
            "weather\n",
            "drizzle    0.470228\n",
            "rain       0.451729\n",
            "sun        0.045315\n",
            "fog        0.019921\n",
            "snow       0.012806\n",
            "Name: proportion, dtype: float64\n"
          ]
        }
      ],
      "source": [
        "# Repeat Q.4 of Task 1.2 - What is the probability of each weather condition given that precipitation is medium and wind is low or medium? Explain your method and results. How does the result change with the addition of wind factor compared to question 3 of Task 1.2?\n",
        "inference = BayesianModelSampling(weather_model)\n",
        "\n",
        "forward_sample = inference.forward_sample(size=10000, show_progress=False)\n",
        "\n",
        "conditioned_samples = forward_sample[(forward_sample['precipitation'] == 'mid') & (forward_sample['wind'].isin(['low', 'mid']))]\n",
        "\n",
        "weather_probabilities = conditioned_samples['weather'].value_counts(normalize=True)\n",
        "\n",
        "print(\"The probability associated with each weather state, given that precipitation is medium and wind is low or medium\")\n",
        "print(weather_probabilities)"
      ]
    }
  ],
  "metadata": {
    "colab": {
      "provenance": []
    },
    "kernelspec": {
      "display_name": "Python 3",
      "name": "python3"
    },
    "language_info": {
      "codemirror_mode": {
        "name": "ipython",
        "version": 3
      },
      "file_extension": ".py",
      "mimetype": "text/x-python",
      "name": "python",
      "nbconvert_exporter": "python",
      "pygments_lexer": "ipython3",
      "version": "3.11.9"
    }
  },
  "nbformat": 4,
  "nbformat_minor": 0
}
