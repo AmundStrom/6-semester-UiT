{
 "cells": [
  {
   "cell_type": "code",
   "execution_count": null,
   "metadata": {},
   "outputs": [],
   "source": [
    "# Including the necessary libraries\n",
    "import numpy as np\n",
    "import pandas as pd\n",
    "import seaborn as sns\n",
    "import matplotlib.pyplot as plt\n",
    "\n",
    "from pgmpy.models import BayesianNetwork\n",
    "from pgmpy.factors.discrete import TabularCPD"
   ]
  },
  {
   "cell_type": "code",
   "execution_count": null,
   "metadata": {},
   "outputs": [],
   "source": [
    "# Import data, make a copy of the original\n",
    "\n",
    "df0 = pd.read_csv('SPRICE_Norwegian_Maritime_Data.csv')\n",
    "dfc1 = df0.copy()\n",
    "dfc1.head()"
   ]
  },
  {
   "cell_type": "code",
   "execution_count": null,
   "metadata": {},
   "outputs": [],
   "source": [
    "# Create new df with variables we want to work with:\n",
    "new_cols = ['TIMESTAMP', 'Air_temp_Act', 'Rel_Humidity_act', 'Rel_Air_Pressure', 'Wind_Speed_avg', 'Precipitation_Type', 'Precipitation_Intensity']\n",
    "\n",
    "df = df0[new_cols]\n",
    "\n",
    "df[df.isnull().any(axis=1)] # any missing data in columns\n",
    "df.isnull().any()\n",
    "df.head()"
   ]
  },
  {
   "cell_type": "code",
   "execution_count": null,
   "metadata": {},
   "outputs": [],
   "source": [
    "df.info()"
   ]
  },
  {
   "cell_type": "code",
   "execution_count": null,
   "metadata": {},
   "outputs": [],
   "source": [
    "# Checking the unique values in the 'weather' column\n",
    "unique_fields = df['Precipitation_Type'].unique()\n",
    "print(unique_fields)"
   ]
  },
  {
   "cell_type": "code",
   "execution_count": null,
   "metadata": {},
   "outputs": [],
   "source": [
    "num_stdv = 1\n",
    "\n",
    "# Define the labels dictionary\n",
    "labels = {\n",
    "    'Air_temp_Act': ['low', 'moderate', 'high'],\n",
    "    'Rel_Humidity_act': ['low', 'moderate', 'high'],\n",
    "    'Rel_Air_Pressure': ['low', 'moderate', 'high'],\n",
    "    'Wind_Speed_avg': ['low', 'moderate', 'high'],\n",
    "    # 'Precipitation_Type': ['0', '60', '70'],\n",
    "    'Precipitation_Intensity': ['low', 'moderate', 'high']\n",
    "}\n",
    "\n",
    "# Create bounds for continuous labels\n",
    "for col in df.columns:\n",
    "    if col in labels:\n",
    "        # print(col)\n",
    "        col_mean = df[col].mean()\n",
    "        col_stvd = df[col].std()\n",
    "        lower = col_mean - col_stvd * num_stdv\n",
    "        upper = col_mean + col_stvd * num_stdv\n",
    "        bins = [-float('inf'), lower, upper, float('inf')]\n",
    "        df.loc[:, col] = pd.cut(df[col], bins=bins, labels=labels[col]) # Wrong?\n",
    "\n",
    "\n",
    "df.head()"
   ]
  },
  {
   "cell_type": "code",
   "execution_count": null,
   "metadata": {},
   "outputs": [],
   "source": [
    "# Define the hierarchy\n",
    "sprice_model = BayesianNetwork([\n",
    "       ('Precipitation_Type', 'Precipitation_Intensity'), ('Precipitation_Type', 'Wind_Speed_avg'),\n",
    "       ('Precipitation_Intensity', 'Rel_Air_Pressure'), ('Precipitation_Intensity', 'Rel_Humidity_act'),\n",
    "       ('Wind_Speed_avg', 'Rel_Air_Pressure'), ('Wind_Speed_avg', 'Rel_Humidity_act'),\n",
    "       ('Rel_Air_Pressure', 'Air_temp_Act'),\n",
    "       ('Rel_Humidity_act', 'Air_temp_Act')\n",
    "])\n",
    "\n",
    "# And, the states for each variables\n",
    "Precipitation_Type_states = ['0', '60', '70']\n",
    "Precipitation_Intensity_states = ['low', 'mid', 'high']\n",
    "Rel_Air_Pressure_states = ['low', 'mid', 'high']\n",
    "Wind_Speed_avg_states = ['low', 'mid', 'high']\n",
    "Rel_Humidity_act_states = ['low', 'mid', 'high']\n",
    "Air_temp_Act_states = ['low', 'mid', 'high']"
   ]
  },
  {
   "cell_type": "code",
   "execution_count": null,
   "metadata": {},
   "outputs": [],
   "source": [
    "# Calculate Probabilities\n",
    "\n",
    "# Weather does not have any parents so all we need are the marginal probabilities of observing each weather type\n",
    "weather_marginal = (df['Precipitation_Type'].value_counts()/len(df['Precipitation_Type'])).round(3)\n",
    "weather_marginal = np.array([[value] for value in weather_marginal])\n",
    "\n",
    "\n",
    "# Joint Propabilities\n",
    "# Create dict where key=parent, value=child\n",
    "var_dict = {\n",
    "           ('Precipitation_Type',): ['Precipitation_Intensity', 'Wind_Speed_avg'], # Precipitation_Type\n",
    "           ('Precipitation_Intensity', 'Wind_Speed_avg'): ['Rel_Air_Pressure'], # Precipitation_Intensity / Wind_Speed_avg\n",
    "           ('Wind_Speed_avg', 'Precipitation_Intensity'): ['Rel_Humidity_act'], # Wind_Speed_avg / Precipitation_Intensity\n",
    "           ('Rel_Air_Pressure', 'Rel_Humidity_act'): ['Air_temp_Act'], # Rel_Air_Pressure / Rel_Humidity_act\n",
    "           }\n",
    "\n",
    "# Create conditional distributions and store results in a list\n",
    "cpd_lst = []\n",
    "for key, value in var_dict.items():\n",
    "   length = len(value)\n",
    "   for i in range(length):\n",
    "       value_given_key = df.groupby(list(key))[value[i]].value_counts(normalize=True).sort_index()\n",
    "       cpd = value_given_key.unstack(fill_value=0).to_numpy().T\n",
    "       cpd_lst.append(cpd)\n",
    "\n",
    "\n",
    "# Note that we get 3 Nan values in the above conditional distributions. This is because one of the type of precipitation (low) did not contain any relation with temp_max.\n",
    "# Therefore, normalization, does not produce the intended result.\n",
    "# To mitigate this, we replace Nan with the equal probability within the three values, i.e., 0.33\n",
    "for cpd in cpd_lst:\n",
    "    for i in range(len(cpd[0])):\n",
    "        col = cpd[:,i]\n",
    "        if np.array_equal(col, np.array([0., 0., 0.])):\n",
    "            cpd[:,i] = .33\n",
    "\n",
    "# print(cpd_lst)"
   ]
  },
  {
   "cell_type": "code",
   "execution_count": null,
   "metadata": {},
   "outputs": [],
   "source": [
    "# Creating tabular conditional probability distribution\n",
    "Precipitation_Type_cpd = TabularCPD(variable='Precipitation_Type', \n",
    "                                    variable_card=3, \n",
    "                                    values=weather_marginal, \n",
    "                                    state_names={'Precipitation_Type': Precipitation_Type_states})\n",
    "\n",
    "Precipitation_Intensity_cpd = TabularCPD(variable='Precipitation_Intensity', \n",
    "                                         variable_card=3, \n",
    "                                         evidence=['Precipitation_Type'], \n",
    "                                         evidence_card=[3],\n",
    "                                         values=cpd_lst[0], \n",
    "                                         state_names={'Precipitation_Intensity': Precipitation_Intensity_states, 'Precipitation_Type': Precipitation_Type_states})\n",
    "\n",
    "Wind_Speed_avg_cpd = TabularCPD(variable='Wind_Speed_avg', \n",
    "                                variable_card=3, \n",
    "                                evidence=['Precipitation_Type'], \n",
    "                                evidence_card=[3],\n",
    "                                values=cpd_lst[1], \n",
    "                                state_names={'Wind_Speed_avg': Wind_Speed_avg_states, 'Precipitation_Type': Precipitation_Type_states})\n",
    "\n",
    "Rel_Air_Pressure_cpd = TabularCPD(variable='Rel_Air_Pressure', \n",
    "                                  variable_card=3, \n",
    "                                  evidence=['Precipitation_Intensity', 'Wind_Speed_avg'], \n",
    "                                  evidence_card=[3, 3],\n",
    "                                  values=cpd_lst[2], \n",
    "                                  state_names={'Rel_Air_Pressure': Rel_Air_Pressure_states, 'Precipitation_Intensity': Precipitation_Intensity_states, 'Wind_Speed_avg': Wind_Speed_avg_states})\n",
    "\n",
    "Rel_Humidity_act_cpd = TabularCPD(variable='Rel_Humidity_act', \n",
    "                                  variable_card=3, \n",
    "                                  evidence=['Wind_Speed_avg', 'Precipitation_Intensity'], \n",
    "                                  evidence_card=[3, 3],\n",
    "                                  values=cpd_lst[3], \n",
    "                                  state_names={'Rel_Humidity_act': Rel_Humidity_act_states, 'Wind_Speed_avg': Wind_Speed_avg_states, 'Precipitation_Intensity': Precipitation_Intensity_states})\n",
    "\n",
    "Air_temp_Act_cpd = TabularCPD(variable='Air_temp_Act', \n",
    "                              variable_card=3, \n",
    "                              evidence=['Rel_Air_Pressure', 'Rel_Humidity_act'], \n",
    "                              evidence_card=[3, 3],\n",
    "                              values=cpd_lst[4], \n",
    "                              state_names={'Air_temp_Act': Air_temp_Act_states, 'Rel_Air_Pressure': Rel_Air_Pressure_states, 'Rel_Humidity_act': Rel_Humidity_act_states})"
   ]
  },
  {
   "cell_type": "code",
   "execution_count": null,
   "metadata": {},
   "outputs": [],
   "source": [
    "# Add CPDs and factors to the model\n",
    "sprice_model.add_cpds(Precipitation_Type_cpd, Precipitation_Intensity_cpd, Wind_Speed_avg_cpd, Air_temp_Act_cpd, Rel_Air_Pressure_cpd, Rel_Humidity_act_cpd)\n",
    "# Check if model is consistent\n",
    "sprice_model.check_model()"
   ]
  },
  {
   "cell_type": "code",
   "execution_count": null,
   "metadata": {},
   "outputs": [],
   "source": [
    "# Viewing nodes of the model\n",
    "sprice_model.nodes()"
   ]
  },
  {
   "cell_type": "code",
   "execution_count": null,
   "metadata": {},
   "outputs": [],
   "source": [
    "# Viewing edges of the model\n",
    "sprice_model.edges()"
   ]
  },
  {
   "cell_type": "code",
   "execution_count": null,
   "metadata": {},
   "outputs": [],
   "source": [
    "# Print the probability table of the weather node\n",
    "print(Precipitation_Type_cpd)\n",
    "\n",
    "# Print the probability table of the wind node\n",
    "print(Precipitation_Intensity_cpd)"
   ]
  },
  {
   "cell_type": "markdown",
   "metadata": {},
   "source": [
    "## Task 1.2"
   ]
  },
  {
   "cell_type": "code",
   "execution_count": null,
   "metadata": {},
   "outputs": [],
   "source": [
    "from pgmpy.inference import VariableElimination\n",
    "\n",
    "inference = VariableElimination(sprice_model)"
   ]
  },
  {
   "cell_type": "code",
   "execution_count": null,
   "metadata": {},
   "outputs": [],
   "source": [
    "# Question 1:\n",
    "\n",
    "# (a) What is the probability of the Actual air temperature when the Type of precipitation is 70?\n",
    "phi_query = inference.query(variables=['Air_temp_Act'], evidence={'Precipitation_Type' : '70'})\n",
    "print(\"Probability of the Actual air temperature when the Type of precipitation is 70:\")\n",
    "print(phi_query)\n",
    "\n",
    "print()\n",
    "\n",
    "# (b) What is the probability of the Type of precipitation when the Actual air temperature is high?\n",
    "phi_query = inference.query(variables=['Precipitation_Type'], evidence={'Air_temp_Act' : 'high'})\n",
    "print(\"Probability of the Type of precipitation when the Actual air temperature is high:\")\n",
    "print(phi_query)"
   ]
  },
  {
   "cell_type": "code",
   "execution_count": null,
   "metadata": {},
   "outputs": [],
   "source": [
    "# Question 2:\n",
    "# (a) Calculate all the possible joint probability and determine the best probable condition. Explain your results?\n",
    "\n",
    "# Returns the highest probable state in the joint distribution of variables.\n",
    "phi_query = inference.map_query(variables=['Air_temp_Act', 'Rel_Humidity_act', 'Rel_Air_Pressure', 'Wind_Speed_avg', 'Precipitation_Type', 'Precipitation_Intensity'], show_progress=False)\n",
    "print(\"The most probable condition:\")\n",
    "print(phi_query)\n",
    "\n",
    "print()\n",
    "    \n",
    "# (b) What is the most probable condition for Precipitation_Type, Precipitation_Intensity, and Wind_Speed_avg, combined?\n",
    "\n",
    "# Returns the highest probable state in the joint distribution of variables.\n",
    "phi_query = inference.map_query(variables=['Precipitation_Type', 'Precipitation_Intensity', 'Wind_Speed_avg'], show_progress=False)\n",
    "print(\"The most probable condition for Precipitation_Type, Precipitation_Intensity, and Wind_Speed_avg:\")\n",
    "print(phi_query)\n",
    "\n"
   ]
  },
  {
   "cell_type": "code",
   "execution_count": null,
   "metadata": {},
   "outputs": [],
   "source": [
    "# Question 3. Find the probability associated with each Type of precipitation, given that the precipitation intensity is medium? Explain your result.\n",
    "phi_query = inference.query(variables=['Precipitation_Type'], evidence={'Precipitation_Intensity' : 'mid'})\n",
    "\n",
    "print(\"The probability associated with each Type of precipitation, given that the precipitation intensity is medium:\")\n",
    "print(phi_query)\n"
   ]
  },
  {
   "cell_type": "code",
   "execution_count": null,
   "metadata": {},
   "outputs": [],
   "source": [
    "# Question 4. What is the probability of each Type of precipitation given that precipitation intensity is medium and Average wind speed is low or medium? \n",
    "# Explain your method and results. How does the result change with the addition of wind factor compared to question 3 of Task 1.2?\n",
    "phi_query = inference.query(variables=['Precipitation_Type'], evidence={'Precipitation_Intensity' : 'mid', 'Wind_Speed_avg' : 'low', 'Wind_Speed_avg' : 'mid'})\n",
    "\n",
    "print(\"The probability of each Type of precipitation given that precipitation intensity is medium and Average wind speed is low or medium:\")\n",
    "print(phi_query)\n"
   ]
  },
  {
   "cell_type": "markdown",
   "metadata": {},
   "source": [
    "# Task 1.3 - Approximate Inference"
   ]
  },
  {
   "cell_type": "code",
   "execution_count": null,
   "metadata": {},
   "outputs": [],
   "source": [
    "from pgmpy.factors.discrete import State\n",
    "from pgmpy.sampling import BayesianModelSampling\n",
    "\n",
    "inference = BayesianModelSampling(sprice_model)"
   ]
  },
  {
   "cell_type": "code",
   "execution_count": null,
   "metadata": {},
   "outputs": [],
   "source": [
    "# Repeat Q.1. (a) of Task 1.2 - What is the probability of high Average wind speed when the type of precipitation is 60?\n",
    "evidence = [State('Precipitation_Type', '60')]\n",
    "\n",
    "# Generates weighted sample(s) from joint distribution of the Bayesian Network, that comply with the given evidence\n",
    "weighted_sample = inference.likelihood_weighted_sample(evidence=evidence, size=100000, show_progress=False)\n",
    "\n",
    "weighted_probability = weighted_sample['Wind_Speed_avg'].value_counts(normalize=True)['high']\n",
    "print(\"The probability of high Average wind speed when the type of precipitation is 60: \", weighted_probability)"
   ]
  },
  {
   "cell_type": "code",
   "execution_count": null,
   "metadata": {},
   "outputs": [],
   "source": [
    "# Repeat Q.1. (b) of Task 1.2 - What is the probability of the type of precipitation being 60 when the Average wind speed is high?\n",
    "evidence = [State('Wind_Speed_avg', 'mid')]\n",
    "\n",
    "# Generates weighted sample(s) from joint distribution of the Bayesian Network, that comply with the given evidence\n",
    "weighted_sample = inference.likelihood_weighted_sample(evidence=evidence, size=100000, show_progress=False)\n",
    "\n",
    "weighted_probability = weighted_sample['Precipitation_Type'].value_counts(normalize=True)['60']\n",
    "print(\"The probability of the type of precipitation being 60 when the Average wind speed is high: \", weighted_probability)"
   ]
  },
  {
   "cell_type": "markdown",
   "metadata": {},
   "source": [
    "## Rejection Sampling"
   ]
  },
  {
   "cell_type": "code",
   "execution_count": null,
   "metadata": {},
   "outputs": [],
   "source": [
    "# Repeat Q.2 . (a) of Task 1.2 - Calculate all the possible joint probability and determine the best probable condition. Explain your results?\n",
    "rejection_sample = inference.rejection_sample(size=10000, show_progress=False)\n",
    "\n",
    "rejection_counts = rejection_sample.value_counts(normalize=True)\n",
    "\n",
    "conditions = rejection_counts.idxmax()\n",
    "\n",
    "condition = {}\n",
    "for index, node in enumerate(sprice_model.nodes()):\n",
    "    condition[node] = conditions[index]\n",
    "\n",
    "print(\"The most probable condition\", condition)"
   ]
  },
  {
   "cell_type": "code",
   "execution_count": null,
   "metadata": {},
   "outputs": [],
   "source": [
    "# Repeat Q.2 . (b) of Task 1.2 - What is the most probable condition for Precipitation_Type, Precipitation_Intensity, and Wind_Speed_avg, combined?\n",
    "combination = ['Precipitation_Type', 'Precipitation_Intensity', 'Wind_Speed_avg']\n",
    "rejection_sample = inference.rejection_sample(size=10000, show_progress=False)[combination]\n",
    "\n",
    "rejection_counts = rejection_sample.value_counts(normalize=True)\n",
    "\n",
    "conditions = rejection_counts.idxmax()\n",
    "\n",
    "condition = {}\n",
    "for index, node in enumerate(combination):\n",
    "    condition[node] = conditions[index]\n",
    "\n",
    "print(\"The most probable condition for Precipitation_Type, Precipitation_Intensity, and Wind_Speed_avg\", condition)"
   ]
  },
  {
   "cell_type": "markdown",
   "metadata": {},
   "source": [
    "## Approx Inference"
   ]
  },
  {
   "cell_type": "code",
   "execution_count": null,
   "metadata": {},
   "outputs": [],
   "source": [
    "from pgmpy.inference import ApproxInference\n",
    "\n",
    "inference = ApproxInference(sprice_model)"
   ]
  },
  {
   "cell_type": "code",
   "execution_count": null,
   "metadata": {},
   "outputs": [],
   "source": [
    "# Repeat Q.3 of Task 1.2 - Find the probability associated with each type of precipitation, given that the precipitation intensity is medium? \n",
    "# Explain your result.\n",
    "phi_query = inference.query(variables=['Precipitation_Type'], evidence={'Precipitation_Intensity' : 'mid'}, show_progress=False)\n",
    "\n",
    "print(\"he probability associated with each type of precipitation, given that the precipitation intensity is medium\")\n",
    "print(phi_query)\n"
   ]
  },
  {
   "cell_type": "markdown",
   "metadata": {},
   "source": [
    "# Normal Sampling"
   ]
  },
  {
   "cell_type": "code",
   "execution_count": null,
   "metadata": {},
   "outputs": [],
   "source": [
    "# Repeat Q.4 of Task 1.2 - \n",
    "# What is the probability of each type of precipitation given that precipitation intensity is medium and average wind speed is low or medium? \n",
    "# Explain your method and results. How does the result change with the addition of wind factor compared to question 3 of Task 1.2?\n",
    "inference = BayesianModelSampling(sprice_model)\n",
    "\n",
    "forward_sample = inference.forward_sample(size=10000, show_progress=False)\n",
    "\n",
    "conditioned_samples = forward_sample[(forward_sample['Precipitation_Intensity'] == 'mid') & (forward_sample['Wind_Speed_avg'].isin(['low', 'mid']))]\n",
    "\n",
    "weather_probabilities = conditioned_samples['Precipitation_Type'].value_counts(normalize=True)\n",
    "\n",
    "print(\"The probability of each type of precipitation given that precipitation intensity is medium and average wind speed is low or medium\")\n",
    "print(weather_probabilities)"
   ]
  }
 ],
 "metadata": {
  "kernelspec": {
   "display_name": "Python 3",
   "language": "python",
   "name": "python3"
  },
  "language_info": {
   "codemirror_mode": {
    "name": "ipython",
    "version": 3
   },
   "file_extension": ".py",
   "mimetype": "text/x-python",
   "name": "python",
   "nbconvert_exporter": "python",
   "pygments_lexer": "ipython3",
   "version": "3.11.9"
  }
 },
 "nbformat": 4,
 "nbformat_minor": 2
}
